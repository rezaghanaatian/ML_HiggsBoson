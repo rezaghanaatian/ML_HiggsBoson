{
 "cells": [
  {
   "cell_type": "markdown",
   "metadata": {},
   "source": [
    "# Libs"
   ]
  },
  {
   "cell_type": "code",
   "execution_count": 1,
   "metadata": {},
   "outputs": [],
   "source": [
    "# Useful starting lines\n",
    "%matplotlib inline\n",
    "import numpy as np\n",
    "import matplotlib.pyplot as plt\n",
    "%load_ext autoreload\n",
    "%autoreload 2"
   ]
  },
  {
   "cell_type": "markdown",
   "metadata": {},
   "source": [
    "# load data"
   ]
  },
  {
   "cell_type": "code",
   "execution_count": 2,
   "metadata": {},
   "outputs": [],
   "source": [
    "import datetime\n",
    "from helpers import *\n",
    "from validation import *\n",
    "from implementations import *"
   ]
  },
  {
   "cell_type": "code",
   "execution_count": 10,
   "metadata": {},
   "outputs": [],
   "source": [
    "data_path = \"./data/train.csv\"\n",
    "yb, tx, ids = load_csv_data(data_path, sub_sample=False)  # test label, test feature, test id or idx number"
   ]
  },
  {
   "cell_type": "code",
   "execution_count": 11,
   "metadata": {},
   "outputs": [],
   "source": [
    "test_data = load_csv_data_general(data_path)"
   ]
  },
  {
   "cell_type": "markdown",
   "metadata": {},
   "source": [
    "# display"
   ]
  },
  {
   "cell_type": "code",
   "execution_count": 5,
   "metadata": {},
   "outputs": [
    {
     "name": "stdout",
     "output_type": "stream",
     "text": [
      "(250000, 30)\n",
      "(30,) (30,)\n",
      "[406.34483401  35.34481492  40.82860887  63.65555431 454.47965615\n",
      " 657.97098617 453.01897051   0.78290955  22.2734492  115.70588372\n",
      "   0.84474126   1.19358245 453.59581401  22.41203584   1.21407622\n",
      "   1.81675941  22.06487828   1.26497962   1.81660763  32.8946274\n",
      "   1.81221908 126.49925272   0.97742435 532.96172343 489.33730734\n",
      " 489.33290465 479.87453609 453.38371728 453.3881105   98.01546598] \n",
      " [-4.90230794e+01  4.92398193e+01  8.11819816e+01  5.78959617e+01\n",
      " -7.08420675e+02 -6.01237051e+02 -7.09356603e+02  2.37309984e+00\n",
      "  1.89173324e+01  1.58432217e+02  1.43760943e+00 -1.28304708e-01\n",
      " -7.08985189e+02  3.87074191e+01 -1.09730480e-02 -8.17107200e-03\n",
      "  4.66602072e+01 -1.95074680e-02  4.35429640e-02  4.17172345e+01\n",
      " -1.01191920e-02  2.09797178e+02  9.79176000e-01 -3.48329567e+02\n",
      " -3.99254314e+02 -3.99259788e+02 -6.92381204e+02 -7.09121609e+02\n",
      " -7.09118631e+02  7.30645914e+01]\n"
     ]
    }
   ],
   "source": [
    "print(tx.shape)\n",
    "std_data = np.std(tx,0)\n",
    "mean_data = np.mean(tx,0)\n",
    "print(std_data.shape, mean_data.shape)\n",
    "print(std_data,'\\n',mean_data)"
   ]
  },
  {
   "cell_type": "markdown",
   "metadata": {},
   "source": [
    "## preprocess"
   ]
  },
  {
   "cell_type": "code",
   "execution_count": 16,
   "metadata": {},
   "outputs": [],
   "source": [
    "median_data=np.median(tx,0)"
   ]
  },
  {
   "cell_type": "code",
   "execution_count": 7,
   "metadata": {},
   "outputs": [
    {
     "data": {
      "text/plain": [
       "array([ 53.09625203,  35.34481492,  40.82860887,  63.65555431,\n",
       "       454.47965615, 657.97098617, 453.01897051,   0.78290955,\n",
       "        22.2734492 , 115.70588372,   0.84474126,   1.19358245,\n",
       "       453.59581401,  22.41203584,   1.21407622,   1.81675941,\n",
       "        22.06487828,   1.26497962,   1.81660763,  32.8946274 ,\n",
       "         1.81221908, 126.49925272,   0.97742435,  52.09478013,\n",
       "         1.65823006,   1.73573955, 479.87453609, 453.38371728,\n",
       "       453.3881105 ,  98.01546598])"
      ]
     },
     "execution_count": 7,
     "metadata": {},
     "output_type": "execute_result"
    }
   ],
   "source": [
    "tx_clean = tx\n",
    "for w1 in range(tx.shape[1]): \n",
    "        for w0 in range(tx.shape[0]):\n",
    "            if tx[w0,w1] == -999:\n",
    "               tx_clean[w0,w1] = median_data[w1]\n",
    "\n",
    "np.std(tx_clean,0)            "
   ]
  },
  {
   "cell_type": "code",
   "execution_count": 8,
   "metadata": {},
   "outputs": [
    {
     "ename": "TypeError",
     "evalue": "pre_process_data() missing 1 required positional argument: 'ignore_cols'",
     "output_type": "error",
     "traceback": [
      "\u001b[1;31m---------------------------------------------------------------------------\u001b[0m",
      "\u001b[1;31mTypeError\u001b[0m                                 Traceback (most recent call last)",
      "\u001b[1;32m<ipython-input-8-e524c4de5205>\u001b[0m in \u001b[0;36m<module>\u001b[1;34m()\u001b[0m\n\u001b[1;32m----> 1\u001b[1;33m \u001b[0mtx_clean2\u001b[0m \u001b[1;33m=\u001b[0m \u001b[0mpre_process_data\u001b[0m\u001b[1;33m(\u001b[0m\u001b[0mtx\u001b[0m\u001b[1;33m)\u001b[0m\u001b[1;33m\u001b[0m\u001b[0m\n\u001b[0m\u001b[0;32m      2\u001b[0m \u001b[0mnp\u001b[0m\u001b[1;33m.\u001b[0m\u001b[0mstd\u001b[0m\u001b[1;33m(\u001b[0m\u001b[0mtx_clean2\u001b[0m\u001b[1;33m,\u001b[0m\u001b[1;36m0\u001b[0m\u001b[1;33m)\u001b[0m\u001b[1;33m\u001b[0m\u001b[0m\n",
      "\u001b[1;31mTypeError\u001b[0m: pre_process_data() missing 1 required positional argument: 'ignore_cols'"
     ]
    }
   ],
   "source": [
    "tx_clean2 = pre_process_data(tx)\n",
    "np.std(tx_clean2,0)  "
   ]
  },
  {
   "cell_type": "markdown",
   "metadata": {},
   "source": [
    "## preprocess normalization"
   ]
  },
  {
   "cell_type": "code",
   "execution_count": 9,
   "metadata": {},
   "outputs": [
    {
     "ename": "NameError",
     "evalue": "name 'tx_clean2' is not defined",
     "output_type": "error",
     "traceback": [
      "\u001b[1;31m---------------------------------------------------------------------------\u001b[0m",
      "\u001b[1;31mNameError\u001b[0m                                 Traceback (most recent call last)",
      "\u001b[1;32m<ipython-input-9-07fb0914a32b>\u001b[0m in \u001b[0;36m<module>\u001b[1;34m()\u001b[0m\n\u001b[1;32m----> 1\u001b[1;33m \u001b[0mtxn\u001b[0m \u001b[1;33m=\u001b[0m \u001b[0mnormalize_data\u001b[0m\u001b[1;33m(\u001b[0m\u001b[0mtx_clean2\u001b[0m\u001b[1;33m)\u001b[0m\u001b[1;33m\u001b[0m\u001b[0m\n\u001b[0m",
      "\u001b[1;31mNameError\u001b[0m: name 'tx_clean2' is not defined"
     ]
    }
   ],
   "source": [
    "txn = normalize_data(tx_clean2)"
   ]
  },
  {
   "cell_type": "markdown",
   "metadata": {},
   "source": [
    "## preprocess jets"
   ]
  },
  {
   "cell_type": "code",
   "execution_count": 6,
   "metadata": {},
   "outputs": [
    {
     "name": "stdout",
     "output_type": "stream",
     "text": [
      "(250000, 30)\n",
      "(73790, 23)\n",
      "(69982, 26)\n",
      "(47427, 32)\n",
      "(20687, 32)\n",
      "(26123, 22)\n",
      "(7562, 25)\n",
      "(2952, 31)\n",
      "(1477, 31)\n"
     ]
    }
   ],
   "source": [
    "x_tr0, x_tr1, x_tr2, x_tr3, x_tr0_wm, x_tr1_wm, x_tr2_wm, x_tr3_wm = pre_process_data_jets(test_data)\n",
    "\n",
    "print(tx.shape)    \n",
    "print(x_tr0.shape)\n",
    "print(x_tr1.shape)\n",
    "print(x_tr2.shape)\n",
    "print(x_tr3.shape)\n",
    "print(x_tr0_wm.shape)\n",
    "print(x_tr1_wm.shape)\n",
    "print(x_tr2_wm.shape)\n",
    "print(x_tr3_wm.shape)"
   ]
  },
  {
   "cell_type": "markdown",
   "metadata": {},
   "source": [
    "## feature augmentation "
   ]
  },
  {
   "cell_type": "code",
   "execution_count": 20,
   "metadata": {},
   "outputs": [
    {
     "name": "stdout",
     "output_type": "stream",
     "text": [
      "(73790, 23)\n",
      "(73790, 276)\n",
      "[ 1.00004000e+05 -1.00000000e+00  1.75864000e+02  1.69150000e+01\n",
      "  1.34805000e+02  1.64050000e+01 -9.99000000e+02  3.89100000e+00\n",
      "  1.64050000e+01  5.79830000e+01  1.05600000e+00 -1.38500000e+00\n",
      "  2.82090000e+01 -2.19700000e+00 -2.23100000e+00  2.97740000e+01\n",
      "  7.98000000e-01  1.56900000e+00  0.00000000e+00 -9.99000000e+02\n",
      " -9.99000000e+02 -9.99000000e+02  0.00000000e+00 -1.00004000e+05\n",
      "  1.75871035e+07  1.69156766e+06  1.34810392e+07  1.64056562e+06\n",
      " -9.99039960e+07  3.89115564e+05  1.64056562e+06  5.79853193e+06\n",
      "  1.05604224e+05 -1.38505540e+05  2.82101284e+06 -2.19708788e+05\n",
      " -2.23108924e+05  2.97751910e+06  7.98031920e+04  1.56906276e+05\n",
      "  0.00000000e+00 -9.99039960e+07 -9.99039960e+07 -9.99039960e+07\n",
      "  0.00000000e+00 -1.75864000e+02 -1.69150000e+01 -1.34805000e+02\n",
      " -1.64050000e+01  9.99000000e+02 -3.89100000e+00 -1.64050000e+01\n",
      " -5.79830000e+01 -1.05600000e+00  1.38500000e+00 -2.82090000e+01\n",
      "  2.19700000e+00  2.23100000e+00 -2.97740000e+01 -7.98000000e-01\n",
      " -1.56900000e+00 -0.00000000e+00  9.99000000e+02  9.99000000e+02\n",
      "  9.99000000e+02 -0.00000000e+00  2.97473956e+03  2.37073465e+04\n",
      "  2.88504892e+03 -1.75688136e+05  6.84286824e+02  2.88504892e+03\n",
      "  1.01971223e+04  1.85712384e+02 -2.43571640e+02  4.96094758e+03\n",
      " -3.86373208e+02 -3.92352584e+02  5.23617474e+03  1.40339472e+02\n",
      "  2.75930616e+02  0.00000000e+00 -1.75688136e+05 -1.75688136e+05\n",
      " -1.75688136e+05  0.00000000e+00  2.28022658e+03  2.77490575e+02\n",
      " -1.68980850e+04  6.58162650e+01  2.77490575e+02  9.80782445e+02\n",
      "  1.78622400e+01 -2.34272750e+01  4.77155235e+02 -3.71622550e+01\n",
      " -3.77373650e+01  5.03627210e+02  1.34981700e+01  2.65396350e+01\n",
      "  0.00000000e+00 -1.68980850e+04 -1.68980850e+04 -1.68980850e+04\n",
      "  0.00000000e+00  2.21147603e+03 -1.34670195e+05  5.24526255e+02\n",
      "  2.21147603e+03  7.81639832e+03  1.42354080e+02 -1.86704925e+02\n",
      "  3.80271425e+03 -2.96166585e+02 -3.00749955e+02  4.01368407e+03\n",
      "  1.07574390e+02  2.11509045e+02  0.00000000e+00 -1.34670195e+05\n",
      " -1.34670195e+05 -1.34670195e+05  0.00000000e+00 -1.63885950e+04\n",
      "  6.38318550e+01  2.69124025e+02  9.51211115e+02  1.73236800e+01\n",
      " -2.27209250e+01  4.62768645e+02 -3.60417850e+01 -3.65995550e+01\n",
      "  4.88442470e+02  1.30911900e+01  2.57394450e+01  0.00000000e+00\n",
      " -1.63885950e+04 -1.63885950e+04 -1.63885950e+04  0.00000000e+00\n",
      " -3.88710900e+03 -1.63885950e+04 -5.79250170e+04 -1.05494400e+03\n",
      "  1.38361500e+03 -2.81807910e+04  2.19480300e+03  2.22876900e+03\n",
      " -2.97442260e+04 -7.97202000e+02 -1.56743100e+03 -0.00000000e+00\n",
      "  9.98001000e+05  9.98001000e+05  9.98001000e+05 -0.00000000e+00\n",
      "  6.38318550e+01  2.25611853e+02  4.10889600e+00 -5.38903500e+00\n",
      "  1.09761219e+02 -8.54852700e+00 -8.68082100e+00  1.15850634e+02\n",
      "  3.10501800e+00  6.10497900e+00  0.00000000e+00 -3.88710900e+03\n",
      " -3.88710900e+03 -3.88710900e+03  0.00000000e+00  9.51211115e+02\n",
      "  1.73236800e+01 -2.27209250e+01  4.62768645e+02 -3.60417850e+01\n",
      " -3.65995550e+01  4.88442470e+02  1.30911900e+01  2.57394450e+01\n",
      "  0.00000000e+00 -1.63885950e+04 -1.63885950e+04 -1.63885950e+04\n",
      "  0.00000000e+00  6.12300480e+01 -8.03064550e+01  1.63564245e+03\n",
      " -1.27388651e+02 -1.29360073e+02  1.72638584e+03  4.62704340e+01\n",
      "  9.09753270e+01  0.00000000e+00 -5.79250170e+04 -5.79250170e+04\n",
      " -5.79250170e+04  0.00000000e+00 -1.46256000e+00  2.97887040e+01\n",
      " -2.32003200e+00 -2.35593600e+00  3.14413440e+01  8.42688000e-01\n",
      "  1.65686400e+00  0.00000000e+00 -1.05494400e+03 -1.05494400e+03\n",
      " -1.05494400e+03  0.00000000e+00 -3.90694650e+01  3.04284500e+00\n",
      "  3.08993500e+00 -4.12369900e+01 -1.10523000e+00 -2.17306500e+00\n",
      " -0.00000000e+00  1.38361500e+03  1.38361500e+03  1.38361500e+03\n",
      " -0.00000000e+00 -6.19751730e+01 -6.29342790e+01  8.39894766e+02\n",
      "  2.25107820e+01  4.42599210e+01  0.00000000e+00 -2.81807910e+04\n",
      " -2.81807910e+04 -2.81807910e+04  0.00000000e+00  4.90150700e+00\n",
      " -6.54134780e+01 -1.75320600e+00 -3.44709300e+00 -0.00000000e+00\n",
      "  2.19480300e+03  2.19480300e+03  2.19480300e+03 -0.00000000e+00\n",
      " -6.64257940e+01 -1.78033800e+00 -3.50043900e+00 -0.00000000e+00\n",
      "  2.22876900e+03  2.22876900e+03  2.22876900e+03 -0.00000000e+00\n",
      "  2.37596520e+01  4.67154060e+01  0.00000000e+00 -2.97442260e+04\n",
      " -2.97442260e+04 -2.97442260e+04  0.00000000e+00  1.25206200e+00\n",
      "  0.00000000e+00 -7.97202000e+02 -7.97202000e+02 -7.97202000e+02\n",
      "  0.00000000e+00  0.00000000e+00 -1.56743100e+03 -1.56743100e+03\n",
      " -1.56743100e+03  0.00000000e+00 -0.00000000e+00 -0.00000000e+00\n",
      " -0.00000000e+00  0.00000000e+00  9.98001000e+05  9.98001000e+05\n",
      " -0.00000000e+00  9.98001000e+05 -0.00000000e+00 -0.00000000e+00]\n"
     ]
    }
   ],
   "source": [
    "#txn = normalize_data(tx)\n",
    "#print(txn.shape)\n",
    "\n",
    "def build_poly_cross_terms(x, degree, ct=False, sqrt=False, square=False):\n",
    "    n_x = len(x)\n",
    "    nbr_param = len(x[0])\n",
    "    #print(nbr_param)\n",
    "    nbr_ct = 0\n",
    "    nbr_ct += int(nbr_param * (nbr_param - 1) / 2)\n",
    "    mat = np.zeros((n_x, (degree + 1) * nbr_param + nbr_ct))\n",
    "    \n",
    "    mat[:, :nbr_param] = x\n",
    "    idx = nbr_param\n",
    "    for l in range(nbr_ct):\n",
    "        for m in range(l + 1, nbr_param):\n",
    "            mat[:, idx] = x[:, l] * x[:, m]\n",
    "            idx += 1\n",
    "                \n",
    "    return mat\n",
    "\n",
    "x_tr0_augment = build_poly_cross_terms(x_tr0,0,False,False,False)\n",
    "x_tr1_augment = build_poly_cross_terms(x_tr1,0,False,False,False)\n",
    "x_tr2_augment = build_poly_cross_terms(x_tr2,0,False,False,False)\n",
    "x_tr3_augment = build_poly_cross_terms(x_tr3,0,False,False,False)\n",
    "\n",
    "print(x_tr0.shape)\n",
    "print(x_tr0_augment.shape)\n",
    "print(x_tr0_augment[1, :])"
   ]
  },
  {
   "cell_type": "markdown",
   "metadata": {},
   "source": [
    "\n",
    "\n",
    "# Least square "
   ]
  },
  {
   "cell_type": "code",
   "execution_count": 21,
   "metadata": {},
   "outputs": [
    {
     "name": "stdout",
     "output_type": "stream",
     "text": [
      "(30,) \n",
      " 0.7022239450685107\n"
     ]
    }
   ],
   "source": [
    "loss_mse, w = least_squares(yb,tx)\n",
    "print(w.shape,\"\\n\",loss_mse)"
   ]
  },
  {
   "cell_type": "markdown",
   "metadata": {},
   "source": [
    "## least square for jet categories"
   ]
  },
  {
   "cell_type": "code",
   "execution_count": 22,
   "metadata": {},
   "outputs": [
    {
     "ename": "LinAlgError",
     "evalue": "Singular matrix",
     "output_type": "error",
     "traceback": [
      "\u001b[1;31m---------------------------------------------------------------------------\u001b[0m",
      "\u001b[1;31mLinAlgError\u001b[0m                               Traceback (most recent call last)",
      "\u001b[1;32m<ipython-input-22-5bd36f227e64>\u001b[0m in \u001b[0;36m<module>\u001b[1;34m()\u001b[0m\n\u001b[1;32m----> 1\u001b[1;33m \u001b[0mloss_mse\u001b[0m\u001b[1;33m,\u001b[0m \u001b[0mw\u001b[0m \u001b[1;33m=\u001b[0m \u001b[0mleast_squares\u001b[0m\u001b[1;33m(\u001b[0m\u001b[0mx_tr0\u001b[0m\u001b[1;33m[\u001b[0m\u001b[1;33m:\u001b[0m\u001b[1;33m,\u001b[0m \u001b[1;36m1\u001b[0m\u001b[1;33m]\u001b[0m\u001b[1;33m,\u001b[0m \u001b[0mx_tr0\u001b[0m\u001b[1;33m[\u001b[0m\u001b[1;33m:\u001b[0m\u001b[1;33m,\u001b[0m \u001b[1;36m2\u001b[0m\u001b[1;33m:\u001b[0m\u001b[1;33m]\u001b[0m\u001b[1;33m)\u001b[0m\u001b[1;33m\u001b[0m\u001b[0m\n\u001b[0m\u001b[0;32m      2\u001b[0m \u001b[0mprint\u001b[0m\u001b[1;33m(\u001b[0m\u001b[0mw\u001b[0m\u001b[1;33m.\u001b[0m\u001b[0mshape\u001b[0m\u001b[1;33m,\u001b[0m\u001b[1;34m\"\\n\"\u001b[0m\u001b[1;33m,\u001b[0m\u001b[0mloss_mse\u001b[0m\u001b[1;33m)\u001b[0m\u001b[1;33m\u001b[0m\u001b[0m\n",
      "\u001b[1;32mD:\\ML_projects\\ML_Fall19_project1\\implementations.py\u001b[0m in \u001b[0;36mleast_squares\u001b[1;34m(y, tx)\u001b[0m\n\u001b[0;32m    116\u001b[0m     \u001b[1;34m\"\"\"calculate the least squares solution.\"\"\"\u001b[0m\u001b[1;33m\u001b[0m\u001b[0m\n\u001b[0;32m    117\u001b[0m     \u001b[0mG\u001b[0m \u001b[1;33m=\u001b[0m \u001b[0mnp\u001b[0m\u001b[1;33m.\u001b[0m\u001b[0mtranspose\u001b[0m\u001b[1;33m(\u001b[0m\u001b[0mtx\u001b[0m\u001b[1;33m)\u001b[0m\u001b[1;33m.\u001b[0m\u001b[0mdot\u001b[0m\u001b[1;33m(\u001b[0m\u001b[0mtx\u001b[0m\u001b[1;33m)\u001b[0m\u001b[1;33m\u001b[0m\u001b[0m\n\u001b[1;32m--> 118\u001b[1;33m     \u001b[0mGinv\u001b[0m \u001b[1;33m=\u001b[0m \u001b[0mnp\u001b[0m\u001b[1;33m.\u001b[0m\u001b[0mlinalg\u001b[0m\u001b[1;33m.\u001b[0m\u001b[0minv\u001b[0m\u001b[1;33m(\u001b[0m\u001b[0mG\u001b[0m\u001b[1;33m)\u001b[0m\u001b[1;33m\u001b[0m\u001b[0m\n\u001b[0m\u001b[0;32m    119\u001b[0m     \u001b[0mw\u001b[0m \u001b[1;33m=\u001b[0m \u001b[0mGinv\u001b[0m\u001b[1;33m.\u001b[0m\u001b[0mdot\u001b[0m\u001b[1;33m(\u001b[0m\u001b[0mnp\u001b[0m\u001b[1;33m.\u001b[0m\u001b[0mtranspose\u001b[0m\u001b[1;33m(\u001b[0m\u001b[0mtx\u001b[0m\u001b[1;33m)\u001b[0m\u001b[1;33m)\u001b[0m\u001b[1;33m.\u001b[0m\u001b[0mdot\u001b[0m\u001b[1;33m(\u001b[0m\u001b[0my\u001b[0m\u001b[1;33m)\u001b[0m\u001b[1;33m\u001b[0m\u001b[0m\n\u001b[0;32m    120\u001b[0m     \u001b[0mloss\u001b[0m \u001b[1;33m=\u001b[0m \u001b[0mcompute_loss\u001b[0m\u001b[1;33m(\u001b[0m\u001b[0my\u001b[0m\u001b[1;33m,\u001b[0m \u001b[0mtx\u001b[0m\u001b[1;33m,\u001b[0m \u001b[0mw\u001b[0m\u001b[1;33m)\u001b[0m\u001b[1;33m\u001b[0m\u001b[0m\n",
      "\u001b[1;32mC:\\Anaconda3\\lib\\site-packages\\numpy\\linalg\\linalg.py\u001b[0m in \u001b[0;36minv\u001b[1;34m(a)\u001b[0m\n\u001b[0;32m    526\u001b[0m     \u001b[0msignature\u001b[0m \u001b[1;33m=\u001b[0m \u001b[1;34m'D->D'\u001b[0m \u001b[1;32mif\u001b[0m \u001b[0misComplexType\u001b[0m\u001b[1;33m(\u001b[0m\u001b[0mt\u001b[0m\u001b[1;33m)\u001b[0m \u001b[1;32melse\u001b[0m \u001b[1;34m'd->d'\u001b[0m\u001b[1;33m\u001b[0m\u001b[0m\n\u001b[0;32m    527\u001b[0m     \u001b[0mextobj\u001b[0m \u001b[1;33m=\u001b[0m \u001b[0mget_linalg_error_extobj\u001b[0m\u001b[1;33m(\u001b[0m\u001b[0m_raise_linalgerror_singular\u001b[0m\u001b[1;33m)\u001b[0m\u001b[1;33m\u001b[0m\u001b[0m\n\u001b[1;32m--> 528\u001b[1;33m     \u001b[0mainv\u001b[0m \u001b[1;33m=\u001b[0m \u001b[0m_umath_linalg\u001b[0m\u001b[1;33m.\u001b[0m\u001b[0minv\u001b[0m\u001b[1;33m(\u001b[0m\u001b[0ma\u001b[0m\u001b[1;33m,\u001b[0m \u001b[0msignature\u001b[0m\u001b[1;33m=\u001b[0m\u001b[0msignature\u001b[0m\u001b[1;33m,\u001b[0m \u001b[0mextobj\u001b[0m\u001b[1;33m=\u001b[0m\u001b[0mextobj\u001b[0m\u001b[1;33m)\u001b[0m\u001b[1;33m\u001b[0m\u001b[0m\n\u001b[0m\u001b[0;32m    529\u001b[0m     \u001b[1;32mreturn\u001b[0m \u001b[0mwrap\u001b[0m\u001b[1;33m(\u001b[0m\u001b[0mainv\u001b[0m\u001b[1;33m.\u001b[0m\u001b[0mastype\u001b[0m\u001b[1;33m(\u001b[0m\u001b[0mresult_t\u001b[0m\u001b[1;33m,\u001b[0m \u001b[0mcopy\u001b[0m\u001b[1;33m=\u001b[0m\u001b[1;32mFalse\u001b[0m\u001b[1;33m)\u001b[0m\u001b[1;33m)\u001b[0m\u001b[1;33m\u001b[0m\u001b[0m\n\u001b[0;32m    530\u001b[0m \u001b[1;33m\u001b[0m\u001b[0m\n",
      "\u001b[1;32mC:\\Anaconda3\\lib\\site-packages\\numpy\\linalg\\linalg.py\u001b[0m in \u001b[0;36m_raise_linalgerror_singular\u001b[1;34m(err, flag)\u001b[0m\n\u001b[0;32m     87\u001b[0m \u001b[1;33m\u001b[0m\u001b[0m\n\u001b[0;32m     88\u001b[0m \u001b[1;32mdef\u001b[0m \u001b[0m_raise_linalgerror_singular\u001b[0m\u001b[1;33m(\u001b[0m\u001b[0merr\u001b[0m\u001b[1;33m,\u001b[0m \u001b[0mflag\u001b[0m\u001b[1;33m)\u001b[0m\u001b[1;33m:\u001b[0m\u001b[1;33m\u001b[0m\u001b[0m\n\u001b[1;32m---> 89\u001b[1;33m     \u001b[1;32mraise\u001b[0m \u001b[0mLinAlgError\u001b[0m\u001b[1;33m(\u001b[0m\u001b[1;34m\"Singular matrix\"\u001b[0m\u001b[1;33m)\u001b[0m\u001b[1;33m\u001b[0m\u001b[0m\n\u001b[0m\u001b[0;32m     90\u001b[0m \u001b[1;33m\u001b[0m\u001b[0m\n\u001b[0;32m     91\u001b[0m \u001b[1;32mdef\u001b[0m \u001b[0m_raise_linalgerror_nonposdef\u001b[0m\u001b[1;33m(\u001b[0m\u001b[0merr\u001b[0m\u001b[1;33m,\u001b[0m \u001b[0mflag\u001b[0m\u001b[1;33m)\u001b[0m\u001b[1;33m:\u001b[0m\u001b[1;33m\u001b[0m\u001b[0m\n",
      "\u001b[1;31mLinAlgError\u001b[0m: Singular matrix"
     ]
    }
   ],
   "source": [
    "loss_mse, w = least_squares(x_tr0[:, 1], x_tr0[:, 2:])\n",
    "print(w.shape,\"\\n\",loss_mse)"
   ]
  },
  {
   "cell_type": "markdown",
   "metadata": {},
   "source": [
    "## Ridge Regression"
   ]
  },
  {
   "cell_type": "code",
   "execution_count": 23,
   "metadata": {},
   "outputs": [
    {
     "name": "stdout",
     "output_type": "stream",
     "text": [
      "(30,) \n",
      " 0.7023654887402898\n"
     ]
    }
   ],
   "source": [
    "lmbd = 0.001\n",
    "loss_mse, w = ridge_regression(yb,tx,lmbd)\n",
    "print(w.shape,\"\\n\",loss_mse)"
   ]
  },
  {
   "cell_type": "markdown",
   "metadata": {},
   "source": [
    "## Ridge Regression for jet categories"
   ]
  },
  {
   "cell_type": "code",
   "execution_count": 24,
   "metadata": {},
   "outputs": [
    {
     "ename": "LinAlgError",
     "evalue": "Singular matrix",
     "output_type": "error",
     "traceback": [
      "\u001b[1;31m---------------------------------------------------------------------------\u001b[0m",
      "\u001b[1;31mLinAlgError\u001b[0m                               Traceback (most recent call last)",
      "\u001b[1;32m<ipython-input-24-263656f8fbe0>\u001b[0m in \u001b[0;36m<module>\u001b[1;34m()\u001b[0m\n\u001b[0;32m      1\u001b[0m \u001b[1;31m# Start ML algorithm.\u001b[0m\u001b[1;33m\u001b[0m\u001b[1;33m\u001b[0m\u001b[0m\n\u001b[0;32m      2\u001b[0m \u001b[0mlmbd\u001b[0m \u001b[1;33m=\u001b[0m \u001b[1;36m0\u001b[0m\u001b[1;33m\u001b[0m\u001b[0m\n\u001b[1;32m----> 3\u001b[1;33m \u001b[0mloss0\u001b[0m\u001b[1;33m,\u001b[0m \u001b[0mw0\u001b[0m \u001b[1;33m=\u001b[0m \u001b[0mridge_regression\u001b[0m\u001b[1;33m(\u001b[0m\u001b[0mx_tr0_augment\u001b[0m\u001b[1;33m[\u001b[0m\u001b[1;33m:\u001b[0m\u001b[1;33m,\u001b[0m \u001b[1;36m1\u001b[0m\u001b[1;33m]\u001b[0m\u001b[1;33m,\u001b[0m \u001b[0mx_tr0_augment\u001b[0m\u001b[1;33m[\u001b[0m\u001b[1;33m:\u001b[0m\u001b[1;33m,\u001b[0m \u001b[1;36m2\u001b[0m\u001b[1;33m:\u001b[0m\u001b[1;33m]\u001b[0m\u001b[1;33m,\u001b[0m \u001b[0mlmbd\u001b[0m\u001b[1;33m)\u001b[0m\u001b[1;33m\u001b[0m\u001b[0m\n\u001b[0m\u001b[0;32m      4\u001b[0m \u001b[0mloss1\u001b[0m\u001b[1;33m,\u001b[0m \u001b[0mw1\u001b[0m \u001b[1;33m=\u001b[0m \u001b[0mridge_regression\u001b[0m\u001b[1;33m(\u001b[0m\u001b[0mx_tr1_augment\u001b[0m\u001b[1;33m[\u001b[0m\u001b[1;33m:\u001b[0m\u001b[1;33m,\u001b[0m \u001b[1;36m1\u001b[0m\u001b[1;33m]\u001b[0m\u001b[1;33m,\u001b[0m \u001b[0mx_tr1_augment\u001b[0m\u001b[1;33m[\u001b[0m\u001b[1;33m:\u001b[0m\u001b[1;33m,\u001b[0m \u001b[1;36m2\u001b[0m\u001b[1;33m:\u001b[0m\u001b[1;33m]\u001b[0m\u001b[1;33m,\u001b[0m \u001b[0mlmbd\u001b[0m\u001b[1;33m)\u001b[0m\u001b[1;33m\u001b[0m\u001b[0m\n\u001b[0;32m      5\u001b[0m \u001b[0mloss2\u001b[0m\u001b[1;33m,\u001b[0m \u001b[0mw2\u001b[0m \u001b[1;33m=\u001b[0m \u001b[0mridge_regression\u001b[0m\u001b[1;33m(\u001b[0m\u001b[0mx_tr2_augment\u001b[0m\u001b[1;33m[\u001b[0m\u001b[1;33m:\u001b[0m\u001b[1;33m,\u001b[0m \u001b[1;36m1\u001b[0m\u001b[1;33m]\u001b[0m\u001b[1;33m,\u001b[0m \u001b[0mx_tr2_augment\u001b[0m\u001b[1;33m[\u001b[0m\u001b[1;33m:\u001b[0m\u001b[1;33m,\u001b[0m \u001b[1;36m2\u001b[0m\u001b[1;33m:\u001b[0m\u001b[1;33m]\u001b[0m\u001b[1;33m,\u001b[0m \u001b[0mlmbd\u001b[0m\u001b[1;33m)\u001b[0m\u001b[1;33m\u001b[0m\u001b[0m\n",
      "\u001b[1;32mD:\\ML_projects\\ML_Fall19_project1\\implementations.py\u001b[0m in \u001b[0;36mridge_regression\u001b[1;34m(y, tx, lmbd)\u001b[0m\n\u001b[0;32m    134\u001b[0m     \u001b[0mN\u001b[0m \u001b[1;33m=\u001b[0m \u001b[0mtx\u001b[0m\u001b[1;33m.\u001b[0m\u001b[0mshape\u001b[0m\u001b[1;33m[\u001b[0m\u001b[1;36m0\u001b[0m\u001b[1;33m]\u001b[0m\u001b[1;33m\u001b[0m\u001b[0m\n\u001b[0;32m    135\u001b[0m     \u001b[0mD\u001b[0m \u001b[1;33m=\u001b[0m \u001b[0mtx\u001b[0m\u001b[1;33m.\u001b[0m\u001b[0mshape\u001b[0m\u001b[1;33m[\u001b[0m\u001b[1;36m1\u001b[0m\u001b[1;33m]\u001b[0m\u001b[1;33m\u001b[0m\u001b[0m\n\u001b[1;32m--> 136\u001b[1;33m     \u001b[0minv\u001b[0m \u001b[1;33m=\u001b[0m \u001b[0mnp\u001b[0m\u001b[1;33m.\u001b[0m\u001b[0mlinalg\u001b[0m\u001b[1;33m.\u001b[0m\u001b[0minv\u001b[0m\u001b[1;33m(\u001b[0m\u001b[0mG\u001b[0m \u001b[1;33m+\u001b[0m \u001b[0mlmbd\u001b[0m \u001b[1;33m*\u001b[0m \u001b[1;36m2\u001b[0m \u001b[1;33m*\u001b[0m \u001b[0mN\u001b[0m \u001b[1;33m*\u001b[0m \u001b[0mnp\u001b[0m\u001b[1;33m.\u001b[0m\u001b[0midentity\u001b[0m\u001b[1;33m(\u001b[0m\u001b[0mD\u001b[0m\u001b[1;33m)\u001b[0m\u001b[1;33m)\u001b[0m\u001b[1;33m\u001b[0m\u001b[0m\n\u001b[0m\u001b[0;32m    137\u001b[0m     \u001b[0mw\u001b[0m \u001b[1;33m=\u001b[0m \u001b[0minv\u001b[0m\u001b[1;33m.\u001b[0m\u001b[0mdot\u001b[0m\u001b[1;33m(\u001b[0m\u001b[0mnp\u001b[0m\u001b[1;33m.\u001b[0m\u001b[0mtranspose\u001b[0m\u001b[1;33m(\u001b[0m\u001b[0mtx\u001b[0m\u001b[1;33m)\u001b[0m\u001b[1;33m)\u001b[0m\u001b[1;33m.\u001b[0m\u001b[0mdot\u001b[0m\u001b[1;33m(\u001b[0m\u001b[0my\u001b[0m\u001b[1;33m)\u001b[0m\u001b[1;33m\u001b[0m\u001b[0m\n\u001b[0;32m    138\u001b[0m     \u001b[0mloss\u001b[0m \u001b[1;33m=\u001b[0m \u001b[0mcompute_loss\u001b[0m\u001b[1;33m(\u001b[0m\u001b[0my\u001b[0m\u001b[1;33m,\u001b[0m \u001b[0mtx\u001b[0m\u001b[1;33m,\u001b[0m \u001b[0mw\u001b[0m\u001b[1;33m)\u001b[0m\u001b[1;33m\u001b[0m\u001b[0m\n",
      "\u001b[1;32mC:\\Anaconda3\\lib\\site-packages\\numpy\\linalg\\linalg.py\u001b[0m in \u001b[0;36minv\u001b[1;34m(a)\u001b[0m\n\u001b[0;32m    526\u001b[0m     \u001b[0msignature\u001b[0m \u001b[1;33m=\u001b[0m \u001b[1;34m'D->D'\u001b[0m \u001b[1;32mif\u001b[0m \u001b[0misComplexType\u001b[0m\u001b[1;33m(\u001b[0m\u001b[0mt\u001b[0m\u001b[1;33m)\u001b[0m \u001b[1;32melse\u001b[0m \u001b[1;34m'd->d'\u001b[0m\u001b[1;33m\u001b[0m\u001b[0m\n\u001b[0;32m    527\u001b[0m     \u001b[0mextobj\u001b[0m \u001b[1;33m=\u001b[0m \u001b[0mget_linalg_error_extobj\u001b[0m\u001b[1;33m(\u001b[0m\u001b[0m_raise_linalgerror_singular\u001b[0m\u001b[1;33m)\u001b[0m\u001b[1;33m\u001b[0m\u001b[0m\n\u001b[1;32m--> 528\u001b[1;33m     \u001b[0mainv\u001b[0m \u001b[1;33m=\u001b[0m \u001b[0m_umath_linalg\u001b[0m\u001b[1;33m.\u001b[0m\u001b[0minv\u001b[0m\u001b[1;33m(\u001b[0m\u001b[0ma\u001b[0m\u001b[1;33m,\u001b[0m \u001b[0msignature\u001b[0m\u001b[1;33m=\u001b[0m\u001b[0msignature\u001b[0m\u001b[1;33m,\u001b[0m \u001b[0mextobj\u001b[0m\u001b[1;33m=\u001b[0m\u001b[0mextobj\u001b[0m\u001b[1;33m)\u001b[0m\u001b[1;33m\u001b[0m\u001b[0m\n\u001b[0m\u001b[0;32m    529\u001b[0m     \u001b[1;32mreturn\u001b[0m \u001b[0mwrap\u001b[0m\u001b[1;33m(\u001b[0m\u001b[0mainv\u001b[0m\u001b[1;33m.\u001b[0m\u001b[0mastype\u001b[0m\u001b[1;33m(\u001b[0m\u001b[0mresult_t\u001b[0m\u001b[1;33m,\u001b[0m \u001b[0mcopy\u001b[0m\u001b[1;33m=\u001b[0m\u001b[1;32mFalse\u001b[0m\u001b[1;33m)\u001b[0m\u001b[1;33m)\u001b[0m\u001b[1;33m\u001b[0m\u001b[0m\n\u001b[0;32m    530\u001b[0m \u001b[1;33m\u001b[0m\u001b[0m\n",
      "\u001b[1;32mC:\\Anaconda3\\lib\\site-packages\\numpy\\linalg\\linalg.py\u001b[0m in \u001b[0;36m_raise_linalgerror_singular\u001b[1;34m(err, flag)\u001b[0m\n\u001b[0;32m     87\u001b[0m \u001b[1;33m\u001b[0m\u001b[0m\n\u001b[0;32m     88\u001b[0m \u001b[1;32mdef\u001b[0m \u001b[0m_raise_linalgerror_singular\u001b[0m\u001b[1;33m(\u001b[0m\u001b[0merr\u001b[0m\u001b[1;33m,\u001b[0m \u001b[0mflag\u001b[0m\u001b[1;33m)\u001b[0m\u001b[1;33m:\u001b[0m\u001b[1;33m\u001b[0m\u001b[0m\n\u001b[1;32m---> 89\u001b[1;33m     \u001b[1;32mraise\u001b[0m \u001b[0mLinAlgError\u001b[0m\u001b[1;33m(\u001b[0m\u001b[1;34m\"Singular matrix\"\u001b[0m\u001b[1;33m)\u001b[0m\u001b[1;33m\u001b[0m\u001b[0m\n\u001b[0m\u001b[0;32m     90\u001b[0m \u001b[1;33m\u001b[0m\u001b[0m\n\u001b[0;32m     91\u001b[0m \u001b[1;32mdef\u001b[0m \u001b[0m_raise_linalgerror_nonposdef\u001b[0m\u001b[1;33m(\u001b[0m\u001b[0merr\u001b[0m\u001b[1;33m,\u001b[0m \u001b[0mflag\u001b[0m\u001b[1;33m)\u001b[0m\u001b[1;33m:\u001b[0m\u001b[1;33m\u001b[0m\u001b[0m\n",
      "\u001b[1;31mLinAlgError\u001b[0m: Singular matrix"
     ]
    }
   ],
   "source": [
    "# Start ML algorithm.\n",
    "lmbd = 0\n",
    "loss0, w0 = ridge_regression(x_tr0_augment[:, 1], x_tr0_augment[:, 2:], lmbd)\n",
    "loss1, w1 = ridge_regression(x_tr1_augment[:, 1], x_tr1_augment[:, 2:], lmbd)\n",
    "loss2, w2 = ridge_regression(x_tr2_augment[:, 1], x_tr2_augment[:, 2:], lmbd)\n",
    "loss3, w3 = ridge_regression(x_tr3_augment[:, 1], x_tr3_augment[:, 2:], lmbd)\n",
    "#loss0_wm, w0_wm = ridge_regression(x_tr0_wm[:, 1], x_tr0_wm[:, 2:], lmbd)\n",
    "#loss1_wm, w1_wm = ridge_regression(x_tr1_wm[:, 1], x_tr1_wm[:, 2:], lmbd)\n",
    "#loss2_wm, w2_wm = ridge_regression(x_tr2_wm[:, 1], x_tr2_wm[:, 2:], lmbd)\n",
    "#loss3_wm, w3_wm = ridge_regression(x_tr3_wm[:, 1], x_tr3_wm[:, 2:], lmbd)\n",
    "\n",
    "print(w0.shape,\"\\n\",loss0)\n",
    "print(w1.shape,\"\\n\",loss1)\n",
    "print(w2.shape,\"\\n\",loss2)\n",
    "print(w3.shape,\"\\n\",loss3)\n",
    "  "
   ]
  },
  {
   "cell_type": "markdown",
   "metadata": {},
   "source": [
    "## Cross validation"
   ]
  },
  {
   "cell_type": "code",
   "execution_count": 139,
   "metadata": {},
   "outputs": [
    {
     "name": "stdout",
     "output_type": "stream",
     "text": [
      "================ step 1 ================\n",
      "Accuracy score:0.7080977777777778\n",
      "================ step 2 ================\n",
      "Accuracy score:0.7237777777777777\n",
      "================ step 3 ================\n",
      "Accuracy score:0.7296044444444445\n",
      "================ step 4 ================\n",
      "Accuracy score:0.7292177777777777\n",
      "================ step 5 ================\n",
      "Accuracy score:0.7388088888888888\n",
      "================ step 6 ================\n",
      "Accuracy score:0.6614311111111111\n",
      "================ step 7 ================\n",
      "Accuracy score:0.5956311111111111\n",
      "================ step 8 ================\n",
      "Accuracy score:0.7598488888888889\n",
      "================ step 9 ================\n",
      "Accuracy score:0.7426977777777778\n",
      "================ step 10 ================\n",
      "Accuracy score:0.7072044444444444\n",
      "================ Final validation Score ================\n",
      "MEAN-Accuracy score:0.709632\n"
     ]
    }
   ],
   "source": [
    "folds_n = 10\n",
    "validation_scores = []\n",
    "\n",
    "for i in range(0, folds_n):\n",
    "    print(\"================ step \" + str(i + 1) + \" ================\")\n",
    "\n",
    "    x_tr, x_te, y_tr, y_te = split_data(txn_augment, yb, 1 / folds_n)\n",
    "    # Start ML algorithm.\n",
    "    # loss, w = least_squares_GD(y_tr, x_tr, initial_w, max_iterations, gamma)\n",
    "    w, loss = least_squares(y_tr,x_tr)\n",
    "\n",
    "    # Print result\n",
    "    # print(\"Gradient Descent: execution time={t:.3f} seconds\".format(t=execution_time))\n",
    "    # print(\"================ loss ================\")\n",
    "    # print(loss)\n",
    "    # print(\"================ w ================\")\n",
    "    # print(w)\n",
    "\n",
    "    # Test algorithm\n",
    "    y_te_predicted = predict_labels(w, x_te)\n",
    "    score = validate(y_te_predicted, y_te)\n",
    "\n",
    "    # Use SKLearn\n",
    "    # clf = SGDClassifier(loss=\"squared_loss\", penalty=\"l2\", max_iter=20)\n",
    "    # clf.fit(x_tr, y_tr)\n",
    "    # print(clf)\n",
    "    # y_te_predicted_sk = clf.predict(x_te)\n",
    "    # score = validate(y_te_predicted_sk, y_te)\n",
    "\n",
    "\n",
    "    validation_scores.append(score)\n",
    "    print(\"Accuracy score:\" + str(score))\n",
    "    \n",
    "    \n",
    "    \n",
    "cv_score = np.mean(np.array(validation_scores))\n",
    "print(\"================ Final validation Score ================\")\n",
    "print(\"MEAN-Accuracy score:\" + str(cv_score))"
   ]
  },
  {
   "cell_type": "markdown",
   "metadata": {},
   "source": [
    "## load test data, create labels"
   ]
  },
  {
   "cell_type": "code",
   "execution_count": 104,
   "metadata": {},
   "outputs": [],
   "source": [
    "test_data_path = \"data/test.csv\"\n",
    "test_yb, test_tx, test_ids = load_csv_data(test_data_path)"
   ]
  },
  {
   "cell_type": "markdown",
   "metadata": {},
   "source": [
    "## preprocess"
   ]
  },
  {
   "cell_type": "code",
   "execution_count": 105,
   "metadata": {},
   "outputs": [
    {
     "name": "stdout",
     "output_type": "stream",
     "text": [
      "0---112.541\n",
      "1---46.467\n",
      "2---73.74\n",
      "3---38.472\n",
      "4---2.099\n",
      "5---226.345\n",
      "6----0.244\n",
      "7---2.492\n",
      "8---12.413\n",
      "9---120.666\n",
      "10---1.282\n",
      "11----0.356\n",
      "12---0.456\n",
      "13---31.7655\n",
      "14----0.022\n",
      "15----0.042\n",
      "16---40.553\n",
      "17----0.038\n",
      "18---0.097\n",
      "19---34.754\n",
      "20----0.016\n",
      "21---179.94\n",
      "22---1.0\n",
      "23---65.839\n",
      "24---0.001\n",
      "25----0.048\n",
      "26---48.037\n",
      "27----0.012\n",
      "28----0.027\n",
      "29---40.504\n"
     ]
    }
   ],
   "source": [
    "test_tx_clean = pre_process_data(test_tx)"
   ]
  },
  {
   "cell_type": "code",
   "execution_count": 149,
   "metadata": {},
   "outputs": [
    {
     "name": "stdout",
     "output_type": "stream",
     "text": [
      "(568238, 60)\n"
     ]
    }
   ],
   "source": [
    "test_txn_augment = np.concatenate((test_tx_clean, test_tx_clean),1)\n",
    "print(test_txn_augment.shape)\n",
    "\n",
    "test_txn_augment[:,30:60] = np.square(test_tx_clean)"
   ]
  },
  {
   "cell_type": "code",
   "execution_count": 150,
   "metadata": {},
   "outputs": [
    {
     "name": "stdout",
     "output_type": "stream",
     "text": [
      "================ labels ================\n",
      "[ 1. -1. -1. -1. -1. -1. -1. -1. -1. -1. -1. -1. -1. -1. -1. -1. -1. -1.\n",
      " -1. -1. -1. -1. -1. -1. -1. -1. -1. -1. -1. -1. -1.  1. -1. -1. -1. -1.\n",
      " -1. -1. -1. -1. -1. -1. -1. -1. -1. -1. -1.  1. -1. -1.]\n"
     ]
    }
   ],
   "source": [
    "test_yb = predict_labels(w, test_txn_augment)\n",
    "print(\"================ labels ================\")\n",
    "print(test_yb[:50])"
   ]
  },
  {
   "cell_type": "markdown",
   "metadata": {},
   "source": [
    "## create submission"
   ]
  },
  {
   "cell_type": "code",
   "execution_count": 151,
   "metadata": {},
   "outputs": [],
   "source": [
    "create_csv_submission(test_ids, test_yb, \"ls_predictions_complete_preprocess_augmented2\")"
   ]
  },
  {
   "cell_type": "code",
   "execution_count": null,
   "metadata": {},
   "outputs": [],
   "source": []
  }
 ],
 "metadata": {
  "kernelspec": {
   "display_name": "Python 3",
   "language": "python",
   "name": "python3"
  },
  "language_info": {
   "codemirror_mode": {
    "name": "ipython",
    "version": 3
   },
   "file_extension": ".py",
   "mimetype": "text/x-python",
   "name": "python",
   "nbconvert_exporter": "python",
   "pygments_lexer": "ipython3",
   "version": "3.6.5"
  }
 },
 "nbformat": 4,
 "nbformat_minor": 2
}
